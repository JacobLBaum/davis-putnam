{
 "cells": [
  {
   "cell_type": "code",
   "execution_count": 67,
   "metadata": {},
   "outputs": [
    {
     "name": "stdout",
     "output_type": "stream",
     "text": [
      "a [1, 2, 3, 4]\n",
      "b [3, 4]\n"
     ]
    }
   ],
   "source": [
    "a = [1,2,3,4]\n",
    "b = a[:]\n",
    "\n",
    "b = b[2:]\n",
    "\n",
    "print('a',a)\n",
    "print('b',b)"
   ]
  },
  {
   "cell_type": "code",
   "execution_count": 64,
   "metadata": {},
   "outputs": [
    {
     "name": "stdout",
     "output_type": "stream",
     "text": [
      "start: [['1', '2', '3'], ['-1', '2', '3'], ['-1', '1', '-3'], ['1', '-3']]\n",
      "clause: ['1', '2', '3']\n",
      "clause: ['-1', '2', '3']\n",
      "clause: ['-1', '1', '-3']\n",
      "clause: ['1', '-3']\n"
     ]
    },
    {
     "data": {
      "text/plain": [
       "[['-1', '1', '-3'], ['1', '-3']]"
      ]
     },
     "execution_count": 64,
     "metadata": {},
     "output_type": "execute_result"
    }
   ],
   "source": [
    "S = []\n",
    "\n",
    "c1 = ['1','2','3']\n",
    "c2 = ['-1','2','3']\n",
    "c3 = ['-1','1','-3']\n",
    "c4 = ['1','-3']\n",
    "\n",
    "\n",
    "S.append(c1)\n",
    "S.append(c2)\n",
    "S.append(c3)\n",
    "S.append(c4)\n",
    "\n",
    "\n",
    "pureLiteral = '2'\n",
    "pureLit = 1\n",
    "print('start:', S)\n",
    "toDel = []\n",
    "if pureLit != 0: #if there exists a pure literal\n",
    "        #obviousAssign(pureLiteral, V) #assign its value in V\n",
    "        for clause in S: #remove all clauses that contain the pureLiteral\n",
    "            print('clause:', clause)\n",
    "            if pureLiteral in clause:\n",
    "                toDel.append(clause)\n",
    "\n",
    "for clause in toDel:\n",
    "    S.remove(clause)\n",
    "S"
   ]
  }
 ],
 "metadata": {
  "kernelspec": {
   "display_name": "Python 3.9.13 64-bit (microsoft store)",
   "language": "python",
   "name": "python3"
  },
  "language_info": {
   "codemirror_mode": {
    "name": "ipython",
    "version": 3
   },
   "file_extension": ".py",
   "mimetype": "text/x-python",
   "name": "python",
   "nbconvert_exporter": "python",
   "pygments_lexer": "ipython3",
   "version": "3.9.13"
  },
  "orig_nbformat": 4,
  "vscode": {
   "interpreter": {
    "hash": "23b4a3e8622309bcc6db3d5cc6eb73d60ab98d9ec23bad6a26b709981ccb403a"
   }
  }
 },
 "nbformat": 4,
 "nbformat_minor": 2
}
